{
 "cells": [
  {
   "cell_type": "markdown",
   "metadata": {},
   "source": [
    "# 1. Neural Network Training"
   ]
  },
  {
   "cell_type": "code",
   "execution_count": 9,
   "metadata": {},
   "outputs": [],
   "source": [
    "import sys\n",
    "if \"..\" not in sys.path:\n",
    "    sys.path.insert(0, \"..\")\n",
    "\n",
    "import torch\n",
    "import torch.nn as nn\n",
    "import numpy as np\n",
    "from sklearn.preprocessing import StandardScaler\n",
    "\n",
    "from Ranker.neuralnetwork import NeuralNetwork\n",
    "from DataHandling.train_data import load_data\n"
   ]
  },
  {
   "cell_type": "markdown",
   "metadata": {},
   "source": [
    "### 1.1. Load training and test data"
   ]
  },
  {
   "cell_type": "code",
   "execution_count": 10,
   "metadata": {},
   "outputs": [],
   "source": [
    "feature_indices = [108, 18, 103, 3, 8, 13, 125, 126, 107, 17, 102, 2, 7, 12, 105, 15, 100, 0, 5, 10]"
   ]
  },
  {
   "cell_type": "code",
   "execution_count": 11,
   "metadata": {},
   "outputs": [],
   "source": [
    "# load training data\n",
    "X_train, y_train = load_data(path=\"../../../data/MSLR-WEB10K/Fold1/train.txt\", nrows=100000, feature_indices=feature_indices)\n",
    "#X_test, y_test = load_data(path=\"../../../data/MSLR-WEB10K/Fold1/test.txt\", nrows=10000)\n",
    "\n"
   ]
  },
  {
   "cell_type": "code",
   "execution_count": 12,
   "metadata": {},
   "outputs": [],
   "source": [
    "y_trans = torch.zeros(len(y_train), 5)\n",
    "for i, label in enumerate(y_train):\n",
    "    y_trans[i, 0:int(label)+1] = 1 \n"
   ]
  },
  {
   "cell_type": "markdown",
   "metadata": {},
   "source": [
    "### 1.2. Create model"
   ]
  },
  {
   "cell_type": "code",
   "execution_count": 13,
   "metadata": {},
   "outputs": [],
   "source": [
    "model = NeuralNetwork(n_features=len(feature_indices), n_hidden=10)"
   ]
  },
  {
   "cell_type": "code",
   "execution_count": 14,
   "metadata": {},
   "outputs": [],
   "source": [
    "### define optimizer and loss fct\n",
    "optimizer = torch.optim.SGD(model.parameters(), lr=0.01, momentum=0.9)\n",
    "loss = nn.CrossEntropyLoss()"
   ]
  },
  {
   "cell_type": "markdown",
   "metadata": {},
   "source": [
    "### 1.3. Train Model"
   ]
  },
  {
   "cell_type": "code",
   "execution_count": 15,
   "metadata": {},
   "outputs": [
    {
     "name": "stdout",
     "output_type": "stream",
     "text": [
      "Epoch 1\n",
      "-------------------------------\n",
      "loss: 122.954323  [   32/100000]\n",
      "loss: 1.091780  [16032/100000]\n",
      "loss: 1.190276  [32032/100000]\n",
      "loss: 1.351556  [48032/100000]\n",
      "loss: 1.443593  [64032/100000]\n",
      "loss: 1.529235  [80032/100000]\n",
      "loss: 1.795762  [96032/100000]\n",
      "Epoch 2\n",
      "-------------------------------\n",
      "loss: 1.557791  [   32/100000]\n",
      "loss: 2.067106  [16032/100000]\n",
      "loss: 1.110698  [32032/100000]\n",
      "loss: 1.979844  [48032/100000]\n",
      "loss: 1.688128  [64032/100000]\n",
      "loss: 1.656128  [80032/100000]\n",
      "loss: 2.215463  [96032/100000]\n",
      "Epoch 3\n",
      "-------------------------------\n",
      "loss: 1.305716  [   32/100000]\n",
      "loss: 1.347183  [16032/100000]\n",
      "loss: 1.680132  [32032/100000]\n",
      "loss: 1.775565  [48032/100000]\n",
      "loss: 1.461952  [64032/100000]\n",
      "loss: 1.499614  [80032/100000]\n",
      "loss: 1.457599  [96032/100000]\n",
      "Epoch 4\n",
      "-------------------------------\n",
      "loss: 1.389264  [   32/100000]\n",
      "loss: 1.474380  [16032/100000]\n",
      "loss: 1.935525  [32032/100000]\n",
      "loss: 1.421622  [48032/100000]\n",
      "loss: 1.557544  [64032/100000]\n",
      "loss: 1.805623  [80032/100000]\n",
      "loss: 1.220441  [96032/100000]\n",
      "Epoch 5\n",
      "-------------------------------\n",
      "loss: 1.678257  [   32/100000]\n",
      "loss: 1.544662  [16032/100000]\n",
      "loss: 1.557664  [32032/100000]\n",
      "loss: 1.205537  [48032/100000]\n",
      "loss: 1.597599  [64032/100000]\n",
      "loss: 2.169388  [80032/100000]\n",
      "loss: 1.701719  [96032/100000]\n",
      "Epoch 6\n",
      "-------------------------------\n",
      "loss: 1.671168  [   32/100000]\n",
      "loss: 1.100641  [16032/100000]\n",
      "loss: 1.080778  [32032/100000]\n",
      "loss: 1.154504  [48032/100000]\n",
      "loss: 2.202438  [64032/100000]\n",
      "loss: 1.352628  [80032/100000]\n",
      "loss: 1.729299  [96032/100000]\n",
      "Epoch 7\n",
      "-------------------------------\n",
      "loss: 1.122227  [   32/100000]\n",
      "loss: 1.044144  [16032/100000]\n",
      "loss: 1.586291  [32032/100000]\n",
      "loss: 1.122731  [48032/100000]\n",
      "loss: 1.740197  [64032/100000]\n",
      "loss: 1.128610  [80032/100000]\n",
      "loss: 2.231233  [96032/100000]\n",
      "Epoch 8\n",
      "-------------------------------\n",
      "loss: 1.730788  [   32/100000]\n",
      "loss: 1.537749  [16032/100000]\n",
      "loss: 1.222437  [32032/100000]\n",
      "loss: 1.779316  [48032/100000]\n",
      "loss: 1.160075  [64032/100000]\n",
      "loss: 1.636768  [80032/100000]\n",
      "loss: 1.723209  [96032/100000]\n",
      "Epoch 9\n",
      "-------------------------------\n",
      "loss: 1.341286  [   32/100000]\n",
      "loss: 1.240874  [16032/100000]\n",
      "loss: 1.767223  [32032/100000]\n",
      "loss: 1.997119  [48032/100000]\n",
      "loss: 1.537786  [64032/100000]\n",
      "loss: 1.393784  [80032/100000]\n",
      "loss: 1.228654  [96032/100000]\n",
      "Epoch 10\n",
      "-------------------------------\n",
      "loss: 1.813100  [   32/100000]\n",
      "loss: 1.156281  [16032/100000]\n",
      "loss: 1.734047  [32032/100000]\n",
      "loss: 1.650093  [48032/100000]\n",
      "loss: 2.107569  [64032/100000]\n",
      "loss: 1.780096  [80032/100000]\n",
      "loss: 1.919403  [96032/100000]\n"
     ]
    }
   ],
   "source": [
    "for epoch in range(10):\n",
    "    print(f\"Epoch {epoch+1}\\n-------------------------------\")\n",
    "    train_loss = model.train_loop(torch.Tensor(X_train), y_trans, loss, optimizer)"
   ]
  },
  {
   "cell_type": "markdown",
   "metadata": {},
   "source": [
    "### 1.4. Save Model"
   ]
  },
  {
   "cell_type": "code",
   "execution_count": 16,
   "metadata": {},
   "outputs": [
    {
     "name": "stdout",
     "output_type": "stream",
     "text": [
      "model saved in  ../models/nn.pth\n"
     ]
    }
   ],
   "source": [
    "# save mdoel\n",
    "model.save(\"../models/nn.pth\")"
   ]
  }
 ],
 "metadata": {
  "kernelspec": {
   "display_name": "mse_env",
   "language": "python",
   "name": "python3"
  },
  "language_info": {
   "codemirror_mode": {
    "name": "ipython",
    "version": 3
   },
   "file_extension": ".py",
   "mimetype": "text/x-python",
   "name": "python",
   "nbconvert_exporter": "python",
   "pygments_lexer": "ipython3",
   "version": "3.11.4"
  },
  "orig_nbformat": 4
 },
 "nbformat": 4,
 "nbformat_minor": 2
}
