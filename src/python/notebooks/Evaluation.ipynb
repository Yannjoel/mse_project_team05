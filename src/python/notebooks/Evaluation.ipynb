{
 "cells": [
  {
   "cell_type": "markdown",
   "metadata": {},
   "source": [
    "# 0. Data Loading"
   ]
  },
  {
   "cell_type": "code",
   "execution_count": 8,
   "metadata": {},
   "outputs": [],
   "source": [
    "import sys\n",
    "import pandas as pd\n",
    "import numpy as np\n",
    "\n",
    "if \"..\" not in sys.path:\n",
    "    sys.path.insert(0, \"..\")\n",
    "\n",
    "\n",
    "from DataHandling.reader import Reader\n",
    "from Ranker.bmtf import BM25\n",
    "from Ranker.tfidf import TfIdf"
   ]
  },
  {
   "cell_type": "code",
   "execution_count": 9,
   "metadata": {},
   "outputs": [
    {
     "data": {
      "text/html": [
       "<div>\n",
       "<style scoped>\n",
       "    .dataframe tbody tr th:only-of-type {\n",
       "        vertical-align: middle;\n",
       "    }\n",
       "\n",
       "    .dataframe tbody tr th {\n",
       "        vertical-align: top;\n",
       "    }\n",
       "\n",
       "    .dataframe thead th {\n",
       "        text-align: right;\n",
       "    }\n",
       "</style>\n",
       "<table border=\"1\" class=\"dataframe\">\n",
       "  <thead>\n",
       "    <tr style=\"text-align: right;\">\n",
       "      <th></th>\n",
       "      <th>title</th>\n",
       "      <th>body</th>\n",
       "      <th>url</th>\n",
       "    </tr>\n",
       "  </thead>\n",
       "  <tbody>\n",
       "    <tr>\n",
       "      <th>0</th>\n",
       "      <td>Home | University of Tübingen</td>\n",
       "      <td>Skip to main navigation Skip to content Skip t...</td>\n",
       "      <td>https://uni-tuebingen.de/en/</td>\n",
       "    </tr>\n",
       "    <tr>\n",
       "      <th>1</th>\n",
       "      <td>Uni A-Z | University of Tübingen</td>\n",
       "      <td>Skip to main navigation Skip to content Skip t...</td>\n",
       "      <td>https://uni-tuebingen.de/en/uni-a-z/</td>\n",
       "    </tr>\n",
       "    <tr>\n",
       "      <th>2</th>\n",
       "      <td>Contact | University of Tübingen</td>\n",
       "      <td>Skip to main navigation Skip to content Skip t...</td>\n",
       "      <td>https://uni-tuebingen.de/en/contact/</td>\n",
       "    </tr>\n",
       "    <tr>\n",
       "      <th>3</th>\n",
       "      <td>Excellence Strategy | University of Tübingen</td>\n",
       "      <td>Skip to main navigation Skip to content Skip t...</td>\n",
       "      <td>https://uni-tuebingen.de/en/excellence-strategy/</td>\n",
       "    </tr>\n",
       "    <tr>\n",
       "      <th>4</th>\n",
       "      <td>Prospective students | University of Tübingen</td>\n",
       "      <td>Skip to main navigation Skip to content Skip t...</td>\n",
       "      <td>https://uni-tuebingen.de/en/study/prospective-...</td>\n",
       "    </tr>\n",
       "  </tbody>\n",
       "</table>\n",
       "</div>"
      ],
      "text/plain": [
       "                                           title  \\\n",
       "0                  Home | University of Tübingen   \n",
       "1               Uni A-Z | University of Tübingen   \n",
       "2               Contact | University of Tübingen   \n",
       "3   Excellence Strategy | University of Tübingen   \n",
       "4  Prospective students | University of Tübingen   \n",
       "\n",
       "                                                body  \\\n",
       "0  Skip to main navigation Skip to content Skip t...   \n",
       "1  Skip to main navigation Skip to content Skip t...   \n",
       "2  Skip to main navigation Skip to content Skip t...   \n",
       "3  Skip to main navigation Skip to content Skip t...   \n",
       "4  Skip to main navigation Skip to content Skip t...   \n",
       "\n",
       "                                                 url  \n",
       "0                       https://uni-tuebingen.de/en/  \n",
       "1               https://uni-tuebingen.de/en/uni-a-z/  \n",
       "2               https://uni-tuebingen.de/en/contact/  \n",
       "3   https://uni-tuebingen.de/en/excellence-strategy/  \n",
       "4  https://uni-tuebingen.de/en/study/prospective-...  "
      ]
     },
     "execution_count": 9,
     "metadata": {},
     "output_type": "execute_result"
    }
   ],
   "source": [
    "r = Reader()\n",
    "titles = r.get_titles()\n",
    "bodies = r.get_bodies()\n",
    "urls = r.get_urls()\n",
    "\n",
    "df = pd.DataFrame({'title': titles, 'body': bodies, 'url': urls})\n",
    "df.head()"
   ]
  },
  {
   "cell_type": "markdown",
   "metadata": {},
   "source": [
    "# 1. BM25"
   ]
  },
  {
   "cell_type": "code",
   "execution_count": 14,
   "metadata": {},
   "outputs": [
    {
     "name": "stdout",
     "output_type": "stream",
     "text": [
      "['https://fit.uni-tuebingen.de/Project/Details?id=10364'\n",
      " 'https://www.my-stuwe.de/en/refectory/allergens/'\n",
      " 'http://cyber-valley.de/en/events/aixia-ai-conference-2020'\n",
      " 'https://www.my-stuwe.de/en/refectory/'\n",
      " 'https://uni-tuebingen.de/en/faculties/faculty-of-science/departments/psychology/research-groups/clinical-psychology-and-psychotherapy/outpatient-clinic/'\n",
      " 'https://uni-tuebingen.de/en/research/centers-and-institutes/international-center-for-ethics-in-the-sciences-and-humanities/research/nature-and-sustainable-development/bioeconomy/'\n",
      " 'https://uni-tuebingen.de/en/research/centers-and-institutes/international-center-for-ethics-in-the-sciences-and-humanities/teaching/studium-oecologicum/'\n",
      " 'http://cyber-valley.de/en/news/cyber-valley-adds-five-shooting-stars-to-its-start-up-network'\n",
      " 'https://uni-tuebingen.de/en/university/news-and-publications/press-releases/press-releases/article/ravens-were-attracted-to-humans-food-more-than-30000-years-ago/'\n",
      " 'https://uni-tuebingen.de/en/research/centers-and-institutes/international-center-for-ethics-in-the-sciences-and-humanities/research/nature-and-sustainable-development/oeko-valuation/']\n"
     ]
    }
   ],
   "source": [
    "\n",
    "\n",
    "bm25 = BM25()\n",
    "scores = bm25.get_scores(query='food', docs=df['body'])\n",
    "print(df['url'][np.argsort(scores)[::-1][:10]].values)"
   ]
  },
  {
   "cell_type": "markdown",
   "metadata": {},
   "source": [
    "# 2. TF-IDF (Vector-Space-Model)"
   ]
  },
  {
   "cell_type": "code",
   "execution_count": null,
   "metadata": {},
   "outputs": [],
   "source": []
  }
 ],
 "metadata": {
  "kernelspec": {
   "display_name": ".venv",
   "language": "python",
   "name": "python3"
  },
  "language_info": {
   "codemirror_mode": {
    "name": "ipython",
    "version": 3
   },
   "file_extension": ".py",
   "mimetype": "text/x-python",
   "name": "python",
   "nbconvert_exporter": "python",
   "pygments_lexer": "ipython3",
   "version": "3.11.4"
  },
  "orig_nbformat": 4
 },
 "nbformat": 4,
 "nbformat_minor": 2
}
