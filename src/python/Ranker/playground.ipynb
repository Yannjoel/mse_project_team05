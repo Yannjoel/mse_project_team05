{
 "cells": [
  {
   "cell_type": "code",
   "execution_count": 20,
   "metadata": {},
   "outputs": [
    {
     "name": "stdout",
     "output_type": "stream",
     "text": [
      "[[ 0 -1  0 -1]\n",
      " [ 1  0  1 -1]\n",
      " [ 0 -1  0 -1]\n",
      " [ 1  1  1  0]]\n",
      "[(0, 0), (0, 1), (0, 2), (0, 3), (1, 0), (1, 1), (1, 2), (1, 3), (2, 0), (2, 1), (2, 2), (2, 3), (3, 0), (3, 1), (3, 2), (3, 3)]\n",
      "[ 0 -1  0 -1  1  0  1 -1  0 -1  0 -1  1  1  1  0]\n"
     ]
    }
   ],
   "source": [
    "import numpy as np\n",
    "a = np.array([0, 1, 0, 2])\n",
    "mask1 = a[:,None] > a\n",
    "mask1 = mask1.astype(int)\n",
    "mask2 = a[:,None] < a\n",
    "mask2 = mask2.astype(int) * -1\n",
    "mask = mask1 + mask2\n",
    "\n",
    "mask_test = np.array([[ 0, -1,  0, -1],\n",
    "                        [ 1,  0,  1,  -1],\n",
    "                        [ 0, -1,  0, -1],\n",
    "                        [ 1,  1,  1,  0]])\n",
    "assert (mask == mask_test).all()\n",
    "print(mask)\n",
    "from itertools import product\n",
    "print(list(product([0, 1, 2, 3], [0, 1, 2, 3])))\n",
    "print(mask.flatten())\n"
   ]
  },
  {
   "cell_type": "code",
   "execution_count": 28,
   "metadata": {},
   "outputs": [
    {
     "name": "stdout",
     "output_type": "stream",
     "text": [
      "[[ 0  0  0  0]\n",
      " [-4 -4 -4 -4]\n",
      " [ 4  4  4  4]\n",
      " [ 0  0  0  0]]\n"
     ]
    }
   ],
   "source": [
    "features = np.array([[1, 2, 3, 4],\n",
    "                    [5, 6, 7, 8]])\n",
    "\n",
    "m = features[:, None] - features\n",
    "m = m.reshape(-1, 4)\n",
    "print(m)"
   ]
  },
  {
   "cell_type": "code",
   "execution_count": null,
   "metadata": {},
   "outputs": [],
   "source": []
  }
 ],
 "metadata": {
  "kernelspec": {
   "display_name": ".venv",
   "language": "python",
   "name": "python3"
  },
  "language_info": {
   "codemirror_mode": {
    "name": "ipython",
    "version": 3
   },
   "file_extension": ".py",
   "mimetype": "text/x-python",
   "name": "python",
   "nbconvert_exporter": "python",
   "pygments_lexer": "ipython3",
   "version": "3.11.4"
  },
  "orig_nbformat": 4
 },
 "nbformat": 4,
 "nbformat_minor": 2
}
