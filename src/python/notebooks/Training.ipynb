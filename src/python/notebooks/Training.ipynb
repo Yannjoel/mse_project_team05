{
 "cells": [
  {
   "cell_type": "markdown",
   "metadata": {},
   "source": [
    "# 1. Neural Network Training"
   ]
  },
  {
   "cell_type": "code",
   "execution_count": 1,
   "metadata": {},
   "outputs": [],
   "source": [
    "import sys\n",
    "if \"..\" not in sys.path:\n",
    "    sys.path.insert(0, \"..\")\n",
    "\n",
    "import torch\n",
    "import torch.nn as nn\n",
    "import numpy as np\n",
    "from sklearn.preprocessing import StandardScaler\n",
    "\n",
    "from Ranker.neuralnetwork import NeuralNetwork\n",
    "from DataHandling.train_data import load_data\n"
   ]
  },
  {
   "cell_type": "markdown",
   "metadata": {},
   "source": [
    "### 1.1. Load training and test data"
   ]
  },
  {
   "cell_type": "code",
   "execution_count": 2,
   "metadata": {},
   "outputs": [],
   "source": [
    "feature_indices = [108, 18, 103, 3, 8, 13, 125, 126, 107, 17, 102, 2, 7, 12, 105, 15, 100, 0, 5, 10]"
   ]
  },
  {
   "cell_type": "code",
   "execution_count": 3,
   "metadata": {},
   "outputs": [],
   "source": [
    "# load training data\n",
    "X_train, y_train = load_data(path=\"../../../data/MSLR-WEB10K/Fold1/train.txt\", nrows=700000, feature_indices=feature_indices)\n",
    "#X_test, y_test = load_data(path=\"../../../data/MSLR-WEB10K/Fold1/test.txt\", nrows=10000)\n"
   ]
  },
  {
   "cell_type": "code",
   "execution_count": 4,
   "metadata": {},
   "outputs": [
    {
     "name": "stdout",
     "output_type": "stream",
     "text": [
      "label counts (array([0., 1., 2., 3., 4.]), array([367404, 224103,  91497,  12066,   4930]))\n"
     ]
    }
   ],
   "source": [
    "print('label counts', np.unique(y_train, return_counts=True))"
   ]
  },
  {
   "cell_type": "code",
   "execution_count": 11,
   "metadata": {},
   "outputs": [
    {
     "name": "stdout",
     "output_type": "stream",
     "text": [
      "(24651, 20) (24651,)\n",
      "label counts:  (array([0., 1., 2., 3., 4.]), array([4931, 4930, 4930, 4930, 4930]))\n"
     ]
    }
   ],
   "source": [
    "# balance dataset\n",
    "indices = np.empty(1, dtype=int)\n",
    "for label in range(5):\n",
    "    indices = np.append(indices, np.random.choice(np.where(y_train == label)[0], 4930, replace=False))\n",
    "    \n",
    "\n",
    "\n",
    "X_cut = X_train[indices, :]\n",
    "y_cut = y_train[indices]\n",
    "\n",
    "print(X_cut.shape, y_cut.shape)\n",
    "print('label counts: ', np.unique(y_cut, return_counts=True))"
   ]
  },
  {
   "cell_type": "code",
   "execution_count": 12,
   "metadata": {},
   "outputs": [],
   "source": [
    "y_trans = torch.zeros(len(y_cut), 5)\n",
    "for i, label in enumerate(y_cut):\n",
    "    y_trans[i, 0:int(label)+1] = 1 \n"
   ]
  },
  {
   "cell_type": "markdown",
   "metadata": {},
   "source": [
    "### 1.2. Create model"
   ]
  },
  {
   "cell_type": "code",
   "execution_count": 13,
   "metadata": {},
   "outputs": [],
   "source": [
    "model = NeuralNetwork(n_features=len(feature_indices), n_hidden=10)"
   ]
  },
  {
   "cell_type": "code",
   "execution_count": 14,
   "metadata": {},
   "outputs": [],
   "source": [
    "### define optimizer and loss fct\n",
    "optimizer = torch.optim.SGD(model.parameters(), lr=0.01, momentum=0.9)\n",
    "loss = nn.CrossEntropyLoss()"
   ]
  },
  {
   "cell_type": "markdown",
   "metadata": {},
   "source": [
    "### 1.3. Train Model"
   ]
  },
  {
   "cell_type": "code",
   "execution_count": 15,
   "metadata": {},
   "outputs": [
    {
     "name": "stdout",
     "output_type": "stream",
     "text": [
      "Epoch 1\n",
      "-------------------------------\n",
      "loss: 44.577934  [   32/24651]\n",
      "loss: 5.189493  [16032/24651]\n",
      "Epoch 2\n",
      "-------------------------------\n",
      "loss: 4.246328  [   32/24651]\n",
      "loss: 4.613749  [16032/24651]\n",
      "Epoch 3\n",
      "-------------------------------\n",
      "loss: 4.876898  [   32/24651]\n",
      "loss: 4.477571  [16032/24651]\n",
      "Epoch 4\n",
      "-------------------------------\n",
      "loss: 4.881222  [   32/24651]\n",
      "loss: 3.918021  [16032/24651]\n",
      "Epoch 5\n",
      "-------------------------------\n",
      "loss: 4.515180  [   32/24651]\n",
      "loss: 4.397859  [16032/24651]\n",
      "Epoch 6\n",
      "-------------------------------\n",
      "loss: 4.279982  [   32/24651]\n",
      "loss: 4.154069  [16032/24651]\n",
      "Epoch 7\n",
      "-------------------------------\n",
      "loss: 4.316090  [   32/24651]\n",
      "loss: 4.458076  [16032/24651]\n",
      "Epoch 8\n",
      "-------------------------------\n",
      "loss: 4.539814  [   32/24651]\n",
      "loss: 4.019837  [16032/24651]\n",
      "Epoch 9\n",
      "-------------------------------\n",
      "loss: 4.301822  [   32/24651]\n",
      "loss: 4.900565  [16032/24651]\n",
      "Epoch 10\n",
      "-------------------------------\n",
      "loss: 4.258908  [   32/24651]\n",
      "loss: 4.719433  [16032/24651]\n"
     ]
    }
   ],
   "source": [
    "for epoch in range(10):\n",
    "    print(f\"Epoch {epoch+1}\\n-------------------------------\")\n",
    "    train_loss = model.train_loop(torch.Tensor(X_cut), y_trans, loss, optimizer)"
   ]
  },
  {
   "cell_type": "markdown",
   "metadata": {},
   "source": [
    "### 1.4. Save Model"
   ]
  },
  {
   "cell_type": "code",
   "execution_count": 10,
   "metadata": {},
   "outputs": [
    {
     "name": "stdout",
     "output_type": "stream",
     "text": [
      "model saved in  ../models/nn.pth\n"
     ]
    }
   ],
   "source": [
    "# save mdoel\n",
    "model.save(\"../models/nn.pth\")"
   ]
  }
 ],
 "metadata": {
  "kernelspec": {
   "display_name": "mse_env",
   "language": "python",
   "name": "python3"
  },
  "language_info": {
   "codemirror_mode": {
    "name": "ipython",
    "version": 3
   },
   "file_extension": ".py",
   "mimetype": "text/x-python",
   "name": "python",
   "nbconvert_exporter": "python",
   "pygments_lexer": "ipython3",
   "version": "3.11.4"
  },
  "orig_nbformat": 4
 },
 "nbformat": 4,
 "nbformat_minor": 2
}
