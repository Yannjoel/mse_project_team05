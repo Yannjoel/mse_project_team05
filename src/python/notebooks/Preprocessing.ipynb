{
 "cells": [
  {
   "cell_type": "code",
   "execution_count": 1,
   "metadata": {},
   "outputs": [],
   "source": [
    "\"\"\"Run this file one time to preprocess the data.\"\"\"\n",
    "import sys\n",
    "if \"..\" not in sys.path:\n",
    "    sys.path.insert(0, \"..\")\n",
    "\n",
    "import numpy as np\n",
    "import pandas as pd\n",
    "import scipy.sparse as sp\n",
    "\n",
    "from DataHandling.db_reader import Reader\n",
    "from DataHandling.language_processing import preprocess\n",
    "\n",
    "from sklearn.feature_extraction.text import TfidfVectorizer\n",
    "\n"
   ]
  },
  {
   "cell_type": "code",
   "execution_count": 2,
   "metadata": {},
   "outputs": [
    {
     "name": "stdout",
     "output_type": "stream",
     "text": [
      "Reading data...\n",
      "Reading data done\n"
     ]
    }
   ],
   "source": [
    "# load data\n",
    "print(\"Reading data...\")\n",
    "reader = Reader()\n",
    "titles = reader.get_titles()\n",
    "bodies = reader.get_bodies()\n",
    "urls = reader.get_urls()\n",
    "reader.close()\n",
    "print(\"Reading data done\")"
   ]
  },
  {
   "cell_type": "code",
   "execution_count": 3,
   "metadata": {},
   "outputs": [],
   "source": [
    "df = pd.DataFrame({\"url\": urls, \"body\": bodies, \"title\": titles})"
   ]
  },
  {
   "cell_type": "code",
   "execution_count": 4,
   "metadata": {},
   "outputs": [
    {
     "name": "stdout",
     "output_type": "stream",
     "text": [
      "Number of duplicates: 131\n",
      "Number of duplicates: 59874\n",
      "Number of duplicates: 131\n",
      "Number of duplicates: 89609\n"
     ]
    }
   ],
   "source": [
    "# check for duplicates\n",
    "print(\"Number of duplicates:\", df.duplicated().sum())\n",
    "print(\"Number of duplicates:\", df['body'].duplicated().sum())\n",
    "print(\"Number of duplicates:\", df['url'].duplicated().sum())\n",
    "print(\"Number of duplicates:\", df['title'].duplicated().sum())\n"
   ]
  },
  {
   "cell_type": "code",
   "execution_count": 5,
   "metadata": {},
   "outputs": [
    {
     "name": "stdout",
     "output_type": "stream",
     "text": [
      "67768\n",
      "67768\n",
      "67767\n"
     ]
    }
   ],
   "source": [
    "# drop rows with duplicates in column body\n",
    "df.drop_duplicates(subset=['body'], inplace=True)\n",
    "print(len(df))\n",
    "\n",
    "# drop rows with duplicates in column url\n",
    "df.drop_duplicates(subset=['url'], inplace=True)\n",
    "print(len(df))\n",
    "\n",
    "# drop rows where body is empty string\n",
    "df = df[df['body'] != '']\n",
    "print(len(df))"
   ]
  },
  {
   "cell_type": "code",
   "execution_count": 7,
   "metadata": {},
   "outputs": [],
   "source": [
    "# # preprocess data\n",
    "titles_processed = [preprocess(title) for title in df['title']]\n",
    "bodies_processed = [preprocess(body) for body in df['body']]\n",
    "\n",
    "# # load preprocessed data\n",
    "# titles_processed = np.load(\"../../../data/titles_processed.npy\", allow_pickle=True)\n",
    "# bodies_processed = np.load(\"../../../data/bodies_processed.npy\", allow_pickle=True)"
   ]
  },
  {
   "cell_type": "code",
   "execution_count": 8,
   "metadata": {},
   "outputs": [
    {
     "data": {
      "text/plain": [
       "(67767,)"
      ]
     },
     "execution_count": 8,
     "metadata": {},
     "output_type": "execute_result"
    }
   ],
   "source": [
    "bodies_processed = np.array(bodies_processed, dtype=object)\n",
    "titles_processed = np.array(titles_processed, dtype=object)\n",
    "bodies_processed.shape\n",
    "titles_processed.shape"
   ]
  },
  {
   "cell_type": "code",
   "execution_count": 9,
   "metadata": {},
   "outputs": [],
   "source": [
    "# store as npy-files\n",
    "np.save(\"../../../data/titles_processed.npy\", titles_processed)\n",
    "np.save(\"../../../data/bodies_processed.npy\", bodies_processed)\n",
    "np.save(\"../../../data/urls.npy\", urls)"
   ]
  },
  {
   "cell_type": "code",
   "execution_count": 10,
   "metadata": {},
   "outputs": [],
   "source": [
    "assert (bodies_processed == np.load(\"../../../data/bodies_processed.npy\", allow_pickle=True)).all()\n",
    "assert (titles_processed == np.load(\"../../../data/titles_processed.npy\", allow_pickle=True)).all()\n",
    "assert (urls == np.load(\"../../../data/urls.npy\", allow_pickle=True)).all()"
   ]
  },
  {
   "cell_type": "code",
   "execution_count": 11,
   "metadata": {},
   "outputs": [],
   "source": [
    "# data embedding \n",
    "vectorizer = TfidfVectorizer()\n",
    "title_embedding = vectorizer.fit_transform(titles_processed)\n",
    "body_embedding = vectorizer.fit_transform(bodies_processed)"
   ]
  },
  {
   "cell_type": "code",
   "execution_count": 15,
   "metadata": {},
   "outputs": [
    {
     "name": "stdout",
     "output_type": "stream",
     "text": [
      "(67767, 34724)\n",
      "(67767, 1459964)\n"
     ]
    },
    {
     "data": {
      "text/plain": [
       "scipy.sparse._csr.csr_matrix"
      ]
     },
     "execution_count": 15,
     "metadata": {},
     "output_type": "execute_result"
    }
   ],
   "source": [
    "print(title_embedding.shape)\n",
    "print(body_embedding.shape)"
   ]
  },
  {
   "cell_type": "code",
   "execution_count": 13,
   "metadata": {},
   "outputs": [
    {
     "data": {
      "text/plain": [
       "<67767x1459964 sparse matrix of type '<class 'numpy.float64'>'\n",
       "\twith 23973641 stored elements in Compressed Sparse Row format>"
      ]
     },
     "execution_count": 13,
     "metadata": {},
     "output_type": "execute_result"
    }
   ],
   "source": [
    "sp.csr_matrix(body_embedding)"
   ]
  },
  {
   "cell_type": "code",
   "execution_count": 14,
   "metadata": {},
   "outputs": [],
   "source": [
    "sp.save_npz(\"../../../data/title_embedding.npz\", sp.csr_matrix(title_embedding))\n",
    "sp.save_npz(\"../../../data/body_embedding.npz\", sp.csr_matrix(body_embedding))"
   ]
  }
 ],
 "metadata": {
  "kernelspec": {
   "display_name": ".venv",
   "language": "python",
   "name": "python3"
  },
  "language_info": {
   "codemirror_mode": {
    "name": "ipython",
    "version": 3
   },
   "file_extension": ".py",
   "mimetype": "text/x-python",
   "name": "python",
   "nbconvert_exporter": "python",
   "pygments_lexer": "ipython3",
   "version": "3.11.4"
  },
  "orig_nbformat": 4
 },
 "nbformat": 4,
 "nbformat_minor": 2
}
