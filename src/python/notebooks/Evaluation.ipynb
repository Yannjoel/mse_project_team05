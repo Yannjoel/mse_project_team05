{
 "cells": [
  {
   "cell_type": "markdown",
   "metadata": {},
   "source": [
    "# 0. Data Loading"
   ]
  },
  {
   "cell_type": "code",
   "execution_count": 1,
   "metadata": {},
   "outputs": [],
   "source": [
    "import sys\n",
    "import pandas as pd\n",
    "import numpy as np\n",
    "import pickle\n",
    "\n",
    "if \"..\" not in sys.path:\n",
    "    sys.path.insert(0, \"..\")\n",
    "\n",
    "\n",
    "from DataHandling.db_reader import Reader\n",
    "from DataHandling.train_data import load_data\n",
    "from Ranker.bmtf import BM25\n",
    "from Ranker.tfidf import TfIdf\n",
    "from Ranker.pwsvm import RankSVM\n",
    "from Ranker.feature_extractor import Features\n",
    "from searching import searcher"
   ]
  },
  {
   "cell_type": "code",
   "execution_count": 2,
   "metadata": {},
   "outputs": [
    {
     "data": {
      "text/html": [
       "<div>\n",
       "<style scoped>\n",
       "    .dataframe tbody tr th:only-of-type {\n",
       "        vertical-align: middle;\n",
       "    }\n",
       "\n",
       "    .dataframe tbody tr th {\n",
       "        vertical-align: top;\n",
       "    }\n",
       "\n",
       "    .dataframe thead th {\n",
       "        text-align: right;\n",
       "    }\n",
       "</style>\n",
       "<table border=\"1\" class=\"dataframe\">\n",
       "  <thead>\n",
       "    <tr style=\"text-align: right;\">\n",
       "      <th></th>\n",
       "      <th>title</th>\n",
       "      <th>body</th>\n",
       "      <th>url</th>\n",
       "    </tr>\n",
       "  </thead>\n",
       "  <tbody>\n",
       "    <tr>\n",
       "      <th>0</th>\n",
       "      <td>Home | University of Tübingen</td>\n",
       "      <td>Skip to main navigation Skip to content Skip t...</td>\n",
       "      <td>https://uni-tuebingen.de/en/</td>\n",
       "    </tr>\n",
       "    <tr>\n",
       "      <th>1</th>\n",
       "      <td>Uni A-Z | University of Tübingen</td>\n",
       "      <td>Skip to main navigation Skip to content Skip t...</td>\n",
       "      <td>https://uni-tuebingen.de/en/uni-a-z/</td>\n",
       "    </tr>\n",
       "    <tr>\n",
       "      <th>2</th>\n",
       "      <td>Contact | University of Tübingen</td>\n",
       "      <td>Skip to main navigation Skip to content Skip t...</td>\n",
       "      <td>https://uni-tuebingen.de/en/contact/</td>\n",
       "    </tr>\n",
       "    <tr>\n",
       "      <th>3</th>\n",
       "      <td>Excellence Strategy | University of Tübingen</td>\n",
       "      <td>Skip to main navigation Skip to content Skip t...</td>\n",
       "      <td>https://uni-tuebingen.de/en/excellence-strategy/</td>\n",
       "    </tr>\n",
       "    <tr>\n",
       "      <th>4</th>\n",
       "      <td>Prospective students | University of Tübingen</td>\n",
       "      <td>Skip to main navigation Skip to content Skip t...</td>\n",
       "      <td>https://uni-tuebingen.de/en/study/prospective-...</td>\n",
       "    </tr>\n",
       "  </tbody>\n",
       "</table>\n",
       "</div>"
      ],
      "text/plain": [
       "                                           title  \\\n",
       "0                  Home | University of Tübingen   \n",
       "1               Uni A-Z | University of Tübingen   \n",
       "2               Contact | University of Tübingen   \n",
       "3   Excellence Strategy | University of Tübingen   \n",
       "4  Prospective students | University of Tübingen   \n",
       "\n",
       "                                                body  \\\n",
       "0  Skip to main navigation Skip to content Skip t...   \n",
       "1  Skip to main navigation Skip to content Skip t...   \n",
       "2  Skip to main navigation Skip to content Skip t...   \n",
       "3  Skip to main navigation Skip to content Skip t...   \n",
       "4  Skip to main navigation Skip to content Skip t...   \n",
       "\n",
       "                                                 url  \n",
       "0                       https://uni-tuebingen.de/en/  \n",
       "1               https://uni-tuebingen.de/en/uni-a-z/  \n",
       "2               https://uni-tuebingen.de/en/contact/  \n",
       "3   https://uni-tuebingen.de/en/excellence-strategy/  \n",
       "4  https://uni-tuebingen.de/en/study/prospective-...  "
      ]
     },
     "execution_count": 2,
     "metadata": {},
     "output_type": "execute_result"
    }
   ],
   "source": [
    "r = Reader()\n",
    "titles = r.get_titles()\n",
    "bodies = r.get_bodies()\n",
    "urls = r.get_urls()\n",
    "\n",
    "df = pd.DataFrame({'title': titles, 'body': bodies, 'url': urls})\n",
    "df.head()"
   ]
  },
  {
   "cell_type": "markdown",
   "metadata": {},
   "source": [
    "# 1. BM25"
   ]
  },
  {
   "cell_type": "code",
   "execution_count": 3,
   "metadata": {},
   "outputs": [
    {
     "name": "stdout",
     "output_type": "stream",
     "text": [
      "['https://fit.uni-tuebingen.de/Project/Details?id=10364'\n",
      " 'https://www.my-stuwe.de/en/refectory/allergens/'\n",
      " 'http://cyber-valley.de/en/events/aixia-ai-conference-2020'\n",
      " 'https://www.my-stuwe.de/en/refectory/'\n",
      " 'https://uni-tuebingen.de/en/faculties/faculty-of-science/departments/psychology/research-groups/clinical-psychology-and-psychotherapy/outpatient-clinic/'\n",
      " 'https://uni-tuebingen.de/en/research/centers-and-institutes/international-center-for-ethics-in-the-sciences-and-humanities/research/nature-and-sustainable-development/bioeconomy/'\n",
      " 'https://uni-tuebingen.de/en/research/centers-and-institutes/international-center-for-ethics-in-the-sciences-and-humanities/teaching/studium-oecologicum/'\n",
      " 'http://cyber-valley.de/en/news/cyber-valley-adds-five-shooting-stars-to-its-start-up-network'\n",
      " 'https://uni-tuebingen.de/en/university/news-and-publications/press-releases/press-releases/article/ravens-were-attracted-to-humans-food-more-than-30000-years-ago/'\n",
      " 'https://uni-tuebingen.de/en/research/centers-and-institutes/international-center-for-ethics-in-the-sciences-and-humanities/research/nature-and-sustainable-development/oeko-valuation/']\n"
     ]
    }
   ],
   "source": [
    "bm25 = BM25()\n",
    "scores = bm25.get_scores(query='food', docs=df['body'])\n",
    "print(df['url'][np.argsort(scores)[::-1][:10]].values)"
   ]
  },
  {
   "cell_type": "markdown",
   "metadata": {},
   "source": [
    "# 2. TF-IDF (Vector-Space-Model)"
   ]
  },
  {
   "cell_type": "code",
   "execution_count": 4,
   "metadata": {},
   "outputs": [
    {
     "name": "stdout",
     "output_type": "stream",
     "text": [
      "['https://fit.uni-tuebingen.de/Project/Details?id=10364'\n",
      " 'https://www.my-stuwe.de/en/refectory/allergens/'\n",
      " 'http://cyber-valley.de/en/events/aixia-ai-conference-2020'\n",
      " 'https://uni-tuebingen.de/en/research/centers-and-institutes/international-center-for-ethics-in-the-sciences-and-humanities/research/nature-and-sustainable-development/bioeconomy/'\n",
      " 'https://www.my-stuwe.de/en/refectory/guidelines/'\n",
      " 'https://uni-tuebingen.de/en/university/news-and-publications/press-releases/press-releases/article/ravens-were-attracted-to-humans-food-more-than-30000-years-ago/'\n",
      " 'http://cyber-valley.de/en/news/cyber-valley-adds-five-shooting-stars-to-its-start-up-network'\n",
      " 'https://www.my-stuwe.de/en/refectory/'\n",
      " 'https://www.my-stuwe.de/en/refectory/cafeteria-unibibliothek-tuebingen/'\n",
      " 'https://uni-tuebingen.de/en/faculties/faculty-of-science/departments/psychology/research-groups/clinical-psychology-and-psychotherapy/outpatient-clinic/']\n"
     ]
    }
   ],
   "source": [
    "tfidf = TfIdf(corpus=df['body'])\n",
    "scores = tfidf.get_scores(query='food', docs=df['body'])\n",
    "print(df['url'][np.argsort(scores)[::-1][:10]].values)"
   ]
  },
  {
   "cell_type": "code",
   "execution_count": 5,
   "metadata": {},
   "outputs": [
    {
     "data": {
      "text/html": [
       "<div>\n",
       "<style scoped>\n",
       "    .dataframe tbody tr th:only-of-type {\n",
       "        vertical-align: middle;\n",
       "    }\n",
       "\n",
       "    .dataframe tbody tr th {\n",
       "        vertical-align: top;\n",
       "    }\n",
       "\n",
       "    .dataframe thead th {\n",
       "        text-align: right;\n",
       "    }\n",
       "</style>\n",
       "<table border=\"1\" class=\"dataframe\">\n",
       "  <thead>\n",
       "    <tr style=\"text-align: right;\">\n",
       "      <th></th>\n",
       "      <th>url_bm25</th>\n",
       "      <th>url_idf</th>\n",
       "      <th>url_vsm</th>\n",
       "      <th>title_bm25</th>\n",
       "      <th>title_idf</th>\n",
       "      <th>title_vsm</th>\n",
       "      <th>body_bm25</th>\n",
       "      <th>body_idf</th>\n",
       "      <th>body_vsm</th>\n",
       "    </tr>\n",
       "  </thead>\n",
       "  <tbody>\n",
       "    <tr>\n",
       "      <th>count</th>\n",
       "      <td>5162.0</td>\n",
       "      <td>5162.000000</td>\n",
       "      <td>5162.000000</td>\n",
       "      <td>5162.0</td>\n",
       "      <td>5.162000e+03</td>\n",
       "      <td>5162.000000</td>\n",
       "      <td>5162.000000</td>\n",
       "      <td>5.162000e+03</td>\n",
       "      <td>5162.000000</td>\n",
       "    </tr>\n",
       "    <tr>\n",
       "      <th>mean</th>\n",
       "      <td>0.0</td>\n",
       "      <td>7.757514</td>\n",
       "      <td>0.000310</td>\n",
       "      <td>0.0</td>\n",
       "      <td>7.469832e+00</td>\n",
       "      <td>0.000460</td>\n",
       "      <td>0.001091</td>\n",
       "      <td>3.033080e+00</td>\n",
       "      <td>0.002949</td>\n",
       "    </tr>\n",
       "    <tr>\n",
       "      <th>std</th>\n",
       "      <td>0.0</td>\n",
       "      <td>0.000000</td>\n",
       "      <td>0.010104</td>\n",
       "      <td>0.0</td>\n",
       "      <td>2.664793e-15</td>\n",
       "      <td>0.012717</td>\n",
       "      <td>0.078367</td>\n",
       "      <td>8.882645e-16</td>\n",
       "      <td>0.011282</td>\n",
       "    </tr>\n",
       "    <tr>\n",
       "      <th>min</th>\n",
       "      <td>0.0</td>\n",
       "      <td>7.757514</td>\n",
       "      <td>0.000000</td>\n",
       "      <td>0.0</td>\n",
       "      <td>7.469832e+00</td>\n",
       "      <td>0.000000</td>\n",
       "      <td>0.000000</td>\n",
       "      <td>3.033080e+00</td>\n",
       "      <td>0.000000</td>\n",
       "    </tr>\n",
       "    <tr>\n",
       "      <th>25%</th>\n",
       "      <td>0.0</td>\n",
       "      <td>7.757514</td>\n",
       "      <td>0.000000</td>\n",
       "      <td>0.0</td>\n",
       "      <td>7.469832e+00</td>\n",
       "      <td>0.000000</td>\n",
       "      <td>0.000000</td>\n",
       "      <td>3.033080e+00</td>\n",
       "      <td>0.000000</td>\n",
       "    </tr>\n",
       "    <tr>\n",
       "      <th>50%</th>\n",
       "      <td>0.0</td>\n",
       "      <td>7.757514</td>\n",
       "      <td>0.000000</td>\n",
       "      <td>0.0</td>\n",
       "      <td>7.469832e+00</td>\n",
       "      <td>0.000000</td>\n",
       "      <td>0.000000</td>\n",
       "      <td>3.033080e+00</td>\n",
       "      <td>0.000000</td>\n",
       "    </tr>\n",
       "    <tr>\n",
       "      <th>75%</th>\n",
       "      <td>0.0</td>\n",
       "      <td>7.757514</td>\n",
       "      <td>0.000000</td>\n",
       "      <td>0.0</td>\n",
       "      <td>7.469832e+00</td>\n",
       "      <td>0.000000</td>\n",
       "      <td>0.000000</td>\n",
       "      <td>3.033080e+00</td>\n",
       "      <td>0.000000</td>\n",
       "    </tr>\n",
       "    <tr>\n",
       "      <th>max</th>\n",
       "      <td>0.0</td>\n",
       "      <td>7.757514</td>\n",
       "      <td>0.382406</td>\n",
       "      <td>0.0</td>\n",
       "      <td>7.469832e+00</td>\n",
       "      <td>0.469613</td>\n",
       "      <td>5.630409</td>\n",
       "      <td>3.033080e+00</td>\n",
       "      <td>0.214705</td>\n",
       "    </tr>\n",
       "  </tbody>\n",
       "</table>\n",
       "</div>"
      ],
      "text/plain": [
       "       url_bm25      url_idf      url_vsm  title_bm25     title_idf  \\\n",
       "count    5162.0  5162.000000  5162.000000      5162.0  5.162000e+03   \n",
       "mean        0.0     7.757514     0.000310         0.0  7.469832e+00   \n",
       "std         0.0     0.000000     0.010104         0.0  2.664793e-15   \n",
       "min         0.0     7.757514     0.000000         0.0  7.469832e+00   \n",
       "25%         0.0     7.757514     0.000000         0.0  7.469832e+00   \n",
       "50%         0.0     7.757514     0.000000         0.0  7.469832e+00   \n",
       "75%         0.0     7.757514     0.000000         0.0  7.469832e+00   \n",
       "max         0.0     7.757514     0.382406         0.0  7.469832e+00   \n",
       "\n",
       "         title_vsm    body_bm25      body_idf     body_vsm  \n",
       "count  5162.000000  5162.000000  5.162000e+03  5162.000000  \n",
       "mean      0.000460     0.001091  3.033080e+00     0.002949  \n",
       "std       0.012717     0.078367  8.882645e-16     0.011282  \n",
       "min       0.000000     0.000000  3.033080e+00     0.000000  \n",
       "25%       0.000000     0.000000  3.033080e+00     0.000000  \n",
       "50%       0.000000     0.000000  3.033080e+00     0.000000  \n",
       "75%       0.000000     0.000000  3.033080e+00     0.000000  \n",
       "max       0.469613     5.630409  3.033080e+00     0.214705  "
      ]
     },
     "execution_count": 5,
     "metadata": {},
     "output_type": "execute_result"
    }
   ],
   "source": [
    "features = Features(query='europe', url=df['url'], title=df['title'], body=df['body'])\n",
    "features.get_features().describe()"
   ]
  },
  {
   "cell_type": "markdown",
   "metadata": {},
   "source": [
    "#"
   ]
  },
  {
   "cell_type": "markdown",
   "metadata": {},
   "source": [
    "# Model Training"
   ]
  },
  {
   "cell_type": "code",
   "execution_count": 6,
   "metadata": {},
   "outputs": [],
   "source": [
    "dic = {'url_bm25': 108, 'url_idf': 18, 'url_vsm': 103,\n",
    "       'url_covered_query_term_number': 3, 'url_query_term_ratio': 8, 'url_stream_length': 13, 'url_n_slash':125, 'url_len_url': 126,\n",
    "       'title_bm25': 107, 'title_idf': 17, 'title_vsm': 102, \n",
    "       'title_covered_query_term_number': 2, 'title_query_term_ratio': 7, 'title_stream_length': 12,\n",
    "       'body_bm25': 105, 'body_idf': 15, 'body_vsm': 100, 'body_covered_query_term_number': 0, 'body_query_term_ratio': 5, 'body_stream_length': 10}"
   ]
  },
  {
   "cell_type": "code",
   "execution_count": 7,
   "metadata": {},
   "outputs": [],
   "source": [
    "X_train, y_train = load_data(path='../../../data/MSLR-WEB10K/Fold1/train.txt', feature_indices=list(dic.values()), nrows=1000)"
   ]
  },
  {
   "cell_type": "code",
   "execution_count": 20,
   "metadata": {},
   "outputs": [
    {
     "name": "stderr",
     "output_type": "stream",
     "text": [
      "/Users/annavollweiter/Documents/Uni/MSE/mse_project_team05/.venv/lib/python3.11/site-packages/sklearn/svm/_classes.py:32: FutureWarning: The default value of `dual` will change from `True` to `'auto'` in 1.5. Set the value of `dual` explicitly to suppress the warning.\n",
      "  warnings.warn(\n",
      "/Users/annavollweiter/Documents/Uni/MSE/mse_project_team05/.venv/lib/python3.11/site-packages/sklearn/svm/_base.py:1242: ConvergenceWarning: Liblinear failed to converge, increase the number of iterations.\n",
      "  warnings.warn(\n"
     ]
    }
   ],
   "source": [
    "import pickle\n",
    "model = RankSVM()\n",
    "model.fit(X_train, y_train)\n",
    "pickle.dump(model, open('../models/svm.pkl', 'wb'))\n"
   ]
  },
  {
   "cell_type": "code",
   "execution_count": 4,
   "metadata": {},
   "outputs": [
    {
     "ename": "FileNotFoundError",
     "evalue": "[Errno 2] No such file or directory: 'models/svm.pkl'",
     "output_type": "error",
     "traceback": [
      "\u001b[0;31m---------------------------------------------------------------------------\u001b[0m",
      "\u001b[0;31mFileNotFoundError\u001b[0m                         Traceback (most recent call last)",
      "Cell \u001b[0;32mIn[4], line 1\u001b[0m\n\u001b[0;32m----> 1\u001b[0m searcher(query\u001b[39m=\u001b[39;49m\u001b[39m'\u001b[39;49m\u001b[39meurope\u001b[39;49m\u001b[39m'\u001b[39;49m, df\u001b[39m=\u001b[39;49mdf, ranker_str\u001b[39m=\u001b[39;49m\u001b[39m'\u001b[39;49m\u001b[39mpwsvm\u001b[39;49m\u001b[39m'\u001b[39;49m)\n",
      "File \u001b[0;32m~/Documents/Uni/MSE/mse_project_team05/src/python/notebooks/../searching.py:16\u001b[0m, in \u001b[0;36msearcher\u001b[0;34m(query, df, ranker_str)\u001b[0m\n\u001b[1;32m     14\u001b[0m     ranker \u001b[39m=\u001b[39m TfIdf()\n\u001b[1;32m     15\u001b[0m \u001b[39melif\u001b[39;00m ranker_str \u001b[39m==\u001b[39m \u001b[39m'\u001b[39m\u001b[39mpwsvm\u001b[39m\u001b[39m'\u001b[39m:\n\u001b[0;32m---> 16\u001b[0m     ranker \u001b[39m=\u001b[39m pickle\u001b[39m.\u001b[39mload(\u001b[39mopen\u001b[39;49m(\u001b[39m'\u001b[39;49m\u001b[39mmodels/svm.pkl\u001b[39;49m\u001b[39m'\u001b[39;49m, \u001b[39m'\u001b[39;49m\u001b[39mrb\u001b[39;49m\u001b[39m'\u001b[39;49m))\n\u001b[1;32m     17\u001b[0m \u001b[39melif\u001b[39;00m ranker_str \u001b[39m==\u001b[39m \u001b[39m'\u001b[39m\u001b[39mnn\u001b[39m\u001b[39m'\u001b[39m:\n\u001b[1;32m     18\u001b[0m     \u001b[39mraise\u001b[39;00m \u001b[39mNotImplementedError\u001b[39;00m(\u001b[39m'\u001b[39m\u001b[39mNeural Network not implemented yet\u001b[39m\u001b[39m'\u001b[39m)\n",
      "\u001b[0;31mFileNotFoundError\u001b[0m: [Errno 2] No such file or directory: 'models/svm.pkl'"
     ]
    }
   ],
   "source": [
    "searcher(query='europe', df=df, ranker_str='pwsvm')"
   ]
  },
  {
   "cell_type": "code",
   "execution_count": null,
   "metadata": {},
   "outputs": [],
   "source": [
    "scores = model.get_scores(X_train)"
   ]
  },
  {
   "cell_type": "code",
   "execution_count": 13,
   "metadata": {},
   "outputs": [
    {
     "data": {
      "text/plain": [
       "(array([0]), array([1000]))"
      ]
     },
     "execution_count": 13,
     "metadata": {},
     "output_type": "execute_result"
    }
   ],
   "source": [
    "np.unique(scores, return_counts=True)"
   ]
  },
  {
   "cell_type": "markdown",
   "metadata": {},
   "source": [
    "# 3. Pairwise SVM"
   ]
  },
  {
   "cell_type": "markdown",
   "metadata": {},
   "source": [
    "# 4. Neural Network"
   ]
  }
 ],
 "metadata": {
  "kernelspec": {
   "display_name": ".venv",
   "language": "python",
   "name": "python3"
  },
  "language_info": {
   "codemirror_mode": {
    "name": "ipython",
    "version": 3
   },
   "file_extension": ".py",
   "mimetype": "text/x-python",
   "name": "python",
   "nbconvert_exporter": "python",
   "pygments_lexer": "ipython3",
   "version": "3.11.4"
  },
  "orig_nbformat": 4
 },
 "nbformat": 4,
 "nbformat_minor": 2
}
