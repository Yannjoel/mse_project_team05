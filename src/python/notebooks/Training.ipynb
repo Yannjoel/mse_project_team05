{
 "cells": [
  {
   "cell_type": "markdown",
   "metadata": {},
   "source": [
    "# 1. Neural Network Training"
   ]
  },
  {
   "cell_type": "code",
   "execution_count": 1,
   "metadata": {},
   "outputs": [],
   "source": [
    "import sys\n",
    "if \"..\" not in sys.path:\n",
    "    sys.path.insert(0, \"..\")\n",
    "\n",
    "import torch\n",
    "import torch.nn as nn\n",
    "import numpy as np\n",
    "from sklearn.preprocessing import StandardScaler\n",
    "\n",
    "from Ranker.neuralnetwork import NeuralNetwork\n",
    "from DataHandling.train_data import load_data\n"
   ]
  },
  {
   "cell_type": "markdown",
   "metadata": {},
   "source": [
    "### 1.1. Load training and test data"
   ]
  },
  {
   "cell_type": "code",
   "execution_count": 2,
   "metadata": {},
   "outputs": [],
   "source": [
    "feature_indices = [108, 18, 103, 3, 8, 13, 125, 126, 107, 17, 102, 2, 7, 12, 105, 15, 100, 0, 5, 10]"
   ]
  },
  {
   "cell_type": "code",
   "execution_count": 3,
   "metadata": {},
   "outputs": [],
   "source": [
    "# load training data\n",
    "X_train, y_train = load_data(path=\"../../../data/MSLR-WEB10K/Fold1/train.txt\", nrows=100000, feature_indices=feature_indices)\n",
    "#X_test, y_test = load_data(path=\"../../../data/MSLR-WEB10K/Fold1/test.txt\", nrows=10000)\n",
    "\n"
   ]
  },
  {
   "cell_type": "code",
   "execution_count": 4,
   "metadata": {},
   "outputs": [],
   "source": [
    "y_trans = torch.zeros(len(y_train), 5)\n",
    "for i, label in enumerate(y_train):\n",
    "    y_trans[i, 0:int(label)+1] = 1 \n"
   ]
  },
  {
   "cell_type": "markdown",
   "metadata": {},
   "source": [
    "### 1.2. Create model"
   ]
  },
  {
   "cell_type": "code",
   "execution_count": 5,
   "metadata": {},
   "outputs": [],
   "source": [
    "model = NeuralNetwork(n_features=len(feature_indices), n_hidden=10)"
   ]
  },
  {
   "cell_type": "code",
   "execution_count": 6,
   "metadata": {},
   "outputs": [],
   "source": [
    "### define optimizer and loss fct\n",
    "optimizer = torch.optim.SGD(model.parameters(), lr=0.01, momentum=0.9)\n",
    "loss = nn.CrossEntropyLoss()"
   ]
  },
  {
   "cell_type": "markdown",
   "metadata": {},
   "source": [
    "### 1.3. Train Model"
   ]
  },
  {
   "cell_type": "code",
   "execution_count": 7,
   "metadata": {},
   "outputs": [
    {
     "name": "stdout",
     "output_type": "stream",
     "text": [
      "Epoch 1\n",
      "-------------------------------\n",
      "loss: 3.982523  [   32/100000]\n",
      "loss: 1.508958  [16032/100000]\n",
      "loss: 1.252131  [32032/100000]\n",
      "loss: 1.984476  [48032/100000]\n",
      "loss: 1.227871  [64032/100000]\n",
      "loss: 1.272001  [80032/100000]\n",
      "loss: 1.975010  [96032/100000]\n",
      "Epoch 2\n",
      "-------------------------------\n",
      "loss: 1.291760  [   32/100000]\n",
      "loss: 1.621499  [16032/100000]\n",
      "loss: 1.646893  [32032/100000]\n",
      "loss: 1.719767  [48032/100000]\n",
      "loss: 1.152898  [64032/100000]\n",
      "loss: 1.149831  [80032/100000]\n",
      "loss: 1.846484  [96032/100000]\n",
      "Epoch 3\n",
      "-------------------------------\n",
      "loss: 1.356960  [   32/100000]\n",
      "loss: 1.694168  [16032/100000]\n",
      "loss: 1.156440  [32032/100000]\n",
      "loss: 1.314789  [48032/100000]\n",
      "loss: 1.735611  [64032/100000]\n",
      "loss: 1.710166  [80032/100000]\n",
      "loss: 0.989067  [96032/100000]\n",
      "Epoch 4\n",
      "-------------------------------\n",
      "loss: 1.339719  [   32/100000]\n",
      "loss: 1.472140  [16032/100000]\n",
      "loss: 2.378346  [32032/100000]\n",
      "loss: 1.818106  [48032/100000]\n",
      "loss: 1.080953  [64032/100000]\n",
      "loss: 1.975844  [80032/100000]\n",
      "loss: 1.613675  [96032/100000]\n",
      "Epoch 5\n",
      "-------------------------------\n",
      "loss: 1.535107  [   32/100000]\n",
      "loss: 1.730887  [16032/100000]\n",
      "loss: 1.494894  [32032/100000]\n",
      "loss: 1.523648  [48032/100000]\n",
      "loss: 1.432180  [64032/100000]\n",
      "loss: 1.942879  [80032/100000]\n",
      "loss: 1.340661  [96032/100000]\n",
      "Epoch 6\n",
      "-------------------------------\n",
      "loss: 1.608655  [   32/100000]\n",
      "loss: 2.739372  [16032/100000]\n",
      "loss: 1.735811  [32032/100000]\n",
      "loss: 1.478992  [48032/100000]\n",
      "loss: 1.554632  [64032/100000]\n",
      "loss: 1.648068  [80032/100000]\n",
      "loss: 1.462357  [96032/100000]\n",
      "Epoch 7\n",
      "-------------------------------\n",
      "loss: 1.504109  [   32/100000]\n",
      "loss: 1.584668  [16032/100000]\n",
      "loss: 1.876196  [32032/100000]\n",
      "loss: 1.653805  [48032/100000]\n",
      "loss: 1.331557  [64032/100000]\n",
      "loss: 1.350112  [80032/100000]\n",
      "loss: 1.381939  [96032/100000]\n",
      "Epoch 8\n",
      "-------------------------------\n",
      "loss: 1.501932  [   32/100000]\n",
      "loss: 1.387403  [16032/100000]\n",
      "loss: 1.355632  [32032/100000]\n",
      "loss: 1.562436  [48032/100000]\n",
      "loss: 1.555630  [64032/100000]\n",
      "loss: 1.862806  [80032/100000]\n",
      "loss: 1.491719  [96032/100000]\n",
      "Epoch 9\n",
      "-------------------------------\n",
      "loss: 1.416911  [   32/100000]\n",
      "loss: 1.634912  [16032/100000]\n",
      "loss: 1.292961  [32032/100000]\n",
      "loss: 1.424487  [48032/100000]\n",
      "loss: 1.304967  [64032/100000]\n",
      "loss: 1.346335  [80032/100000]\n",
      "loss: 1.958471  [96032/100000]\n",
      "Epoch 10\n",
      "-------------------------------\n",
      "loss: 1.496689  [   32/100000]\n",
      "loss: 1.156946  [16032/100000]\n",
      "loss: 1.632535  [32032/100000]\n",
      "loss: 1.580161  [48032/100000]\n",
      "loss: 2.028119  [64032/100000]\n",
      "loss: 1.881606  [80032/100000]\n",
      "loss: 0.913330  [96032/100000]\n"
     ]
    }
   ],
   "source": [
    "for epoch in range(10):\n",
    "    print(f\"Epoch {epoch+1}\\n-------------------------------\")\n",
    "    train_loss = model.train_loop(torch.Tensor(X_train), y_trans, loss, optimizer)"
   ]
  },
  {
   "cell_type": "markdown",
   "metadata": {},
   "source": [
    "### 1.4. Save Model"
   ]
  },
  {
   "cell_type": "code",
   "execution_count": 8,
   "metadata": {},
   "outputs": [
    {
     "name": "stdout",
     "output_type": "stream",
     "text": [
      "model saved in  ../models/nn_2.pth\n"
     ]
    }
   ],
   "source": [
    "# save mdoel\n",
    "model.save(\"../models/nn.pth\")"
   ]
  }
 ],
 "metadata": {
  "kernelspec": {
   "display_name": "mse_env",
   "language": "python",
   "name": "python3"
  },
  "language_info": {
   "codemirror_mode": {
    "name": "ipython",
    "version": 3
   },
   "file_extension": ".py",
   "mimetype": "text/x-python",
   "name": "python",
   "nbconvert_exporter": "python",
   "pygments_lexer": "ipython3",
   "version": "3.11.4"
  },
  "orig_nbformat": 4
 },
 "nbformat": 4,
 "nbformat_minor": 2
}
