{
 "cells": [
  {
   "cell_type": "markdown",
   "metadata": {},
   "source": [
    "# 1. Neural Network Training"
   ]
  },
  {
   "cell_type": "code",
   "execution_count": 1,
   "metadata": {},
   "outputs": [],
   "source": [
    "import sys\n",
    "if \"..\" not in sys.path:\n",
    "    sys.path.insert(0, \"..\")\n",
    "\n",
    "import torch\n",
    "import torch.nn as nn\n",
    "import numpy as np\n",
    "from sklearn.preprocessing import StandardScaler\n",
    "\n",
    "from Ranker.neuralnetwork import NeuralNetwork\n",
    "from DataHandling.train_data import load_data\n"
   ]
  },
  {
   "cell_type": "markdown",
   "metadata": {},
   "source": [
    "### 1.1. Load training and test data"
   ]
  },
  {
   "cell_type": "code",
   "execution_count": 5,
   "metadata": {},
   "outputs": [],
   "source": [
    "# load training data\n",
    "X_train, y_train = load_data(path=\"../../../data/MSLR-WEB10K/Fold1/train.txt\", nrows=100000)\n",
    "#X_test, y_test = load_data(path=\"../../../data/MSLR-WEB10K/Fold1/test.txt\", nrows=10000)\n",
    "\n",
    "# scale data\n",
    "scaler = StandardScaler()\n",
    "X_train = scaler.fit_transform(X_train)\n",
    "\n"
   ]
  },
  {
   "cell_type": "code",
   "execution_count": 15,
   "metadata": {},
   "outputs": [
    {
     "data": {
      "text/plain": [
       "array([0., 1., 2., 3., 4.])"
      ]
     },
     "execution_count": 15,
     "metadata": {},
     "output_type": "execute_result"
    }
   ],
   "source": [
    "\n",
    "\n",
    "y_trans = torch.zeros(len(y_train), 5)\n",
    "for i, label in enumerate(y_train):\n",
    "    y_trans[i, 0:int(label)+1] = 1 "
   ]
  },
  {
   "cell_type": "markdown",
   "metadata": {},
   "source": [
    "### 1.2. Create model"
   ]
  },
  {
   "cell_type": "code",
   "execution_count": null,
   "metadata": {},
   "outputs": [],
   "source": [
    "model = NeuralNetwork(n_features=9, n_hidden=10)"
   ]
  },
  {
   "cell_type": "code",
   "execution_count": null,
   "metadata": {},
   "outputs": [],
   "source": [
    "### define optimizer and loss fct\n",
    "optimizer = torch.optim.SGD(model.parameters(), lr=0.01, momentum=0.9)\n",
    "loss = nn.MSELoss()"
   ]
  },
  {
   "cell_type": "markdown",
   "metadata": {},
   "source": [
    "### 1.3. Train Model"
   ]
  },
  {
   "cell_type": "code",
   "execution_count": null,
   "metadata": {},
   "outputs": [
    {
     "name": "stdout",
     "output_type": "stream",
     "text": [
      "Epoch 1\n",
      "-------------------------------\n",
      "loss: 11.445139  [   32/100000]\n"
     ]
    },
    {
     "name": "stdout",
     "output_type": "stream",
     "text": [
      "loss: 0.803765  [16032/100000]\n",
      "loss: 1.256854  [32032/100000]\n",
      "loss: 0.484411  [48032/100000]\n",
      "loss: 0.972153  [64032/100000]\n",
      "loss: 0.680691  [80032/100000]\n",
      "loss: 0.950940  [96032/100000]\n",
      "Epoch 2\n",
      "-------------------------------\n",
      "loss: 0.663765  [   32/100000]\n",
      "loss: 0.502341  [16032/100000]\n",
      "loss: 0.611464  [32032/100000]\n",
      "loss: 0.542092  [48032/100000]\n",
      "loss: 0.439435  [64032/100000]\n",
      "loss: 0.496117  [80032/100000]\n",
      "loss: 0.637289  [96032/100000]\n",
      "Epoch 3\n",
      "-------------------------------\n",
      "loss: 0.796876  [   32/100000]\n",
      "loss: 0.998487  [16032/100000]\n",
      "loss: 0.683520  [32032/100000]\n",
      "loss: 0.893838  [48032/100000]\n",
      "loss: 0.590025  [64032/100000]\n",
      "loss: 0.738198  [80032/100000]\n",
      "loss: 0.616786  [96032/100000]\n",
      "Epoch 4\n",
      "-------------------------------\n",
      "loss: 0.637765  [   32/100000]\n",
      "loss: 0.781123  [16032/100000]\n",
      "loss: 0.645870  [32032/100000]\n",
      "loss: 0.835365  [48032/100000]\n",
      "loss: 1.306868  [64032/100000]\n",
      "loss: 0.567943  [80032/100000]\n",
      "loss: 0.527466  [96032/100000]\n",
      "Epoch 5\n",
      "-------------------------------\n",
      "loss: 0.547974  [   32/100000]\n",
      "loss: 0.558709  [16032/100000]\n",
      "loss: 0.481121  [32032/100000]\n",
      "loss: 0.563922  [48032/100000]\n",
      "loss: 1.437598  [64032/100000]\n",
      "loss: 1.052185  [80032/100000]\n",
      "loss: 0.573640  [96032/100000]\n",
      "Epoch 6\n",
      "-------------------------------\n",
      "loss: 0.354357  [   32/100000]\n",
      "loss: 0.385791  [16032/100000]\n",
      "loss: 0.756408  [32032/100000]\n",
      "loss: 0.652852  [48032/100000]\n",
      "loss: 1.014778  [64032/100000]\n",
      "loss: 0.851004  [80032/100000]\n",
      "loss: 0.401369  [96032/100000]\n",
      "Epoch 7\n",
      "-------------------------------\n",
      "loss: 0.727032  [   32/100000]\n",
      "loss: 0.668861  [16032/100000]\n",
      "loss: 0.818422  [32032/100000]\n",
      "loss: 0.538248  [48032/100000]\n",
      "loss: 0.701639  [64032/100000]\n",
      "loss: 0.617003  [80032/100000]\n",
      "loss: 0.649106  [96032/100000]\n",
      "Epoch 8\n",
      "-------------------------------\n",
      "loss: 0.834197  [   32/100000]\n",
      "loss: 0.819334  [16032/100000]\n",
      "loss: 0.804094  [32032/100000]\n",
      "loss: 0.484462  [48032/100000]\n",
      "loss: 0.684540  [64032/100000]\n",
      "loss: 0.551336  [80032/100000]\n",
      "loss: 0.434131  [96032/100000]\n",
      "Epoch 9\n",
      "-------------------------------\n",
      "loss: 0.926834  [   32/100000]\n",
      "loss: 0.982978  [16032/100000]\n",
      "loss: 0.610423  [32032/100000]\n",
      "loss: 0.493954  [48032/100000]\n",
      "loss: 0.803922  [64032/100000]\n",
      "loss: 0.831280  [80032/100000]\n",
      "loss: 0.605469  [96032/100000]\n",
      "Epoch 10\n",
      "-------------------------------\n",
      "loss: 0.554493  [   32/100000]\n",
      "loss: 0.441295  [16032/100000]\n",
      "loss: 0.746721  [32032/100000]\n",
      "loss: 0.499428  [48032/100000]\n",
      "loss: 0.445498  [64032/100000]\n",
      "loss: 0.518383  [80032/100000]\n",
      "loss: 0.375544  [96032/100000]\n"
     ]
    }
   ],
   "source": [
    "for epoch in range(10):\n",
    "    print(f\"Epoch {epoch+1}\\n-------------------------------\")\n",
    "    train_loss = model.train_loop(torch.Tensor(X_train), torch.Tensor(y_train.reshape(-1, 1)), loss, optimizer)"
   ]
  },
  {
   "cell_type": "markdown",
   "metadata": {},
   "source": [
    "### 1.4. Save Model"
   ]
  },
  {
   "cell_type": "code",
   "execution_count": null,
   "metadata": {},
   "outputs": [
    {
     "name": "stdout",
     "output_type": "stream",
     "text": [
      "model saved in  model.pth\n"
     ]
    }
   ],
   "source": [
    "# save mdoel\n",
    "model.save(\"../models/nn.pth\")"
   ]
  },
  {
   "cell_type": "code",
   "execution_count": null,
   "metadata": {},
   "outputs": [
    {
     "data": {
      "text/plain": [
       "NeuralNetwork(\n",
       "  (fc1): Linear(in_features=9, out_features=10, bias=True)\n",
       "  (fc2): Linear(in_features=10, out_features=1, bias=True)\n",
       ")"
      ]
     },
     "execution_count": 7,
     "metadata": {},
     "output_type": "execute_result"
    }
   ],
   "source": [
    "NeuralNetwork.load()"
   ]
  },
  {
   "cell_type": "code",
   "execution_count": null,
   "metadata": {},
   "outputs": [],
   "source": []
  }
 ],
 "metadata": {
  "kernelspec": {
   "display_name": "mse_env",
   "language": "python",
   "name": "python3"
  },
  "language_info": {
   "codemirror_mode": {
    "name": "ipython",
    "version": 3
   },
   "file_extension": ".py",
   "mimetype": "text/x-python",
   "name": "python",
   "nbconvert_exporter": "python",
   "pygments_lexer": "ipython3",
   "version": "3.11.4"
  },
  "orig_nbformat": 4
 },
 "nbformat": 4,
 "nbformat_minor": 2
}
